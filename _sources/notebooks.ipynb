{
 "cells": [
  {
   "cell_type": "markdown",
   "metadata": {},
   "source": [
    "# Prueba Celes\n"
   ]
  },
  {
   "cell_type": "markdown",
   "metadata": {},
   "source": [
    "## SQL "
   ]
  },
  {
   "cell_type": "markdown",
   "metadata": {},
   "source": [
    "**Modelo de datos**\n",
    "![](C:/Users/kaes1/Pictures/Screenshots/Diagrama.png)"
   ]
  },
  {
   "cell_type": "markdown",
   "metadata": {},
   "source": [
    "1. Crear una consulta que liste todos los enemigos que aparecen en los episodios de Doctor Who donde aparece Rose Tyler como compañero, pero no aparece David Tennant como el doctor. "
   ]
  },
  {
   "cell_type": "markdown",
   "metadata": {},
   "source": [
    "La consulta propuesta para listar los enemigos es la siguiente: "
   ]
  },
  {
   "cell_type": "code",
   "execution_count": null,
   "metadata": {
    "tags": [
     "skip-execution"
    ],
    "vscode": {
     "languageId": "sql"
    }
   },
   "outputs": [],
   "source": [
    "SELECT EnemyName\n",
    "FROM `prueba_celes.tblEpisode` AS tblEpisode\n",
    "INNER JOIN `prueba_celes.tblEpisodeCompanion` as tblEpisodeCompanion \n",
    "ON tblEpisode.EpisodeId = tblEpisodeCompanion.EpisodeId\n",
    "INNER JOIN `prueba_celes.tblCompanion` as tblCompanion \n",
    "ON tblEpisodeCompanion.CompanionId = tblCompanion.CompanionId\n",
    "INNER JOIN `prueba_celes.tblDoctor` as tblDoctor \n",
    "ON tblEpisode.DoctorId = tblDoctor.DoctorId\n",
    "INNER JOIN `prueba_celes.tblEpisodeEnemy` as tblEpisodeEnemy \n",
    "ON tblEpisode.EpisodeId = tblEpisodeEnemy.EpisodeId\n",
    "INNER JOIN `prueba_celes.tblEnemy` as tblEnemy\n",
    "ON tblEpisodeEnemy.EnemyId = tblEnemy.EnemyId\n",
    "WHERE CompanionName = \"Rose Tyler\" AND DoctorName != \"David Tennant\"\n",
    "GROUP BY EnemyName"
   ]
  },
  {
   "cell_type": "markdown",
   "metadata": {},
   "source": [
    "Luego de ejecutar la consulta, la lista de enemigos obtenidas fue: \n",
    "\n",
    "![](C:/Users/kaes1/Pictures/Screenshots/enemy.png)"
   ]
  },
  {
   "cell_type": "markdown",
   "metadata": {},
   "source": [
    "2. Para cada episodio de David Tennant (como el doctor), muestre para cada enemigo el numero de veces que aparecen en episodios que no son de David. (La interpretación que se hizo de este query )"
   ]
  },
  {
   "cell_type": "code",
   "execution_count": null,
   "metadata": {
    "tags": [
     "skip-execution"
    ],
    "vscode": {
     "languageId": "sql"
    }
   },
   "outputs": [],
   "source": [
    "SELECT tblEnemy.EnemyName, COUNT(tblEpisode.EpisodeId) AS NumApariciones\n",
    "FROM `prueba_celes.tblEpisode` AS tblEpisode\n",
    "INNER JOIN `prueba_celes.tblEpisodeEnemy` AS tblEpisodeEnemy ON tblEpisode.EpisodeId = tblEpisodeEnemy.EpisodeId\n",
    "INNER JOIN `prueba_celes.tblEnemy` as tblEnemy ON tblEpisodeEnemy.EnemyId = tblEnemy.EnemyId\n",
    "INNER JOIN `prueba_celes.tblDoctor` as tblDoctor ON tblEpisode.DoctorId = tblDoctor.DoctorId\n",
    "WHERE DoctorName != \"David Tennant\" AND tblEnemy.EnemyId IN (SELECT tblEnemy.EnemyId\n",
    "FROM `prueba_celes.tblEpisode` AS tblEpisode\n",
    "INNER JOIN `prueba_celes.tblEpisodeEnemy` AS tblEpisodeEnemy ON tblEpisode.EpisodeId = tblEpisodeEnemy.EpisodeId\n",
    "INNER JOIN `prueba_celes.tblEnemy` as tblEnemy ON tblEpisodeEnemy.EnemyId = tblEnemy.EnemyId\n",
    "INNER JOIN `prueba_celes.tblDoctor` as tblDoctor ON tblEpisode.DoctorId = tblDoctor.DoctorId\n",
    "WHERE DoctorName = \"David Tennant\"\n",
    "GROUP BY EnemyId)\n",
    "GROUP BY EnemyName"
   ]
  },
  {
   "cell_type": "markdown",
   "metadata": {},
   "source": [
    "A continuación la lista de enemigos que aparecieron en capitulos con David Tennat, y la cantidad de veces que aparecieron en otros capitulos donde David Tennat no era el Doctor: \n",
    "\n",
    "![](C:/Users/kaes1/Pictures/Screenshots/enemy2.png)"
   ]
  },
  {
   "cell_type": "markdown",
   "metadata": {},
   "source": [
    "3. Crea una consulta que liste los capitulos de David Tennat que no comparten enemigos con ningun otro episodio que no sea de Tennant.\n"
   ]
  },
  {
   "cell_type": "code",
   "execution_count": null,
   "metadata": {
    "tags": [
     "skip-execution"
    ],
    "vscode": {
     "languageId": "sql"
    }
   },
   "outputs": [],
   "source": [
    "SELECT tblEpisode.EpisodeId, tblEpisode.Title\n",
    "FROM `prueba_celes.tblEpisode` AS tblEpisode\n",
    "INNER JOIN `prueba_celes.tblEpisodeEnemy` AS tblEpisodeEnemy ON tblEpisode.EpisodeId = tblEpisodeEnemy.EpisodeId\n",
    "INNER JOIN `prueba_celes.tblEnemy` as tblEnemy ON tblEpisodeEnemy.EnemyId = tblEnemy.EnemyId\n",
    "INNER JOIN `prueba_celes.tblDoctor` as tblDoctor ON tblEpisode.DoctorId = tblDoctor.DoctorId\n",
    "WHERE DoctorName = \"David Tennant\" AND tblEnemy.EnemyId NOT IN (SELECT tblEnemy.EnemyId\n",
    "FROM `prueba_celes.tblEpisode` AS tblEpisode\n",
    "INNER JOIN `prueba_celes.tblEpisodeEnemy` AS tblEpisodeEnemy ON tblEpisode.EpisodeId = tblEpisodeEnemy.EpisodeId\n",
    "INNER JOIN `prueba_celes.tblEnemy` as tblEnemy ON tblEpisodeEnemy.EnemyId = tblEnemy.EnemyId\n",
    "INNER JOIN `prueba_celes.tblDoctor` as tblDoctor ON tblEpisode.DoctorId = tblDoctor.DoctorId\n",
    "WHERE DoctorName != \"David Tennant\"\n",
    "GROUP BY EnemyId)\n",
    "GROUP BY tblEpisode.EpisodeId, tblEpisode.Title\n",
    "ORDER BY tblEpisode.EpisodeId\n"
   ]
  },
  {
   "cell_type": "markdown",
   "metadata": {},
   "source": [
    "De la consulta anterior resulta un listado de 32 episodios de David Tennant que no compartene enemigos con episodios de otros Doctores.\n",
    "![](C:/Users/kaes1/Pictures/Screenshots/episode1.png)\n",
    "![](C:/Users/kaes1/Pictures/Screenshots/episode2.png)\n"
   ]
  },
  {
   "cell_type": "markdown",
   "metadata": {},
   "source": [
    "4.Eliminar registros duplicados para las cedula, basado en el Timestamp. Solo dejar el utlimo registro para cada cedula."
   ]
  },
  {
   "cell_type": "code",
   "execution_count": null,
   "metadata": {
    "tags": [
     "skip-execution"
    ],
    "vscode": {
     "languageId": "sql"
    }
   },
   "outputs": [],
   "source": [
    "SELECT tblCedula.Id, tblCedula.Cedula, TimeStamp\n",
    "FROM `prueba_celes.tblCedula` as tblCedula\n",
    "INNER JOIN (\n",
    "SELECT Cedula, MAX(TimeStamp) as LastEntry\n",
    "FROM `prueba_celes.tblCedula`\n",
    "GROUP BY Cedula\n",
    ") as tbl \n",
    "ON tblCedula.Cedula = tbl.Cedula AND tblCedula.TimeStamp = tbl.LastEntry\n",
    "ORDER BY tblCedula.Cedula ASC"
   ]
  },
  {
   "cell_type": "markdown",
   "metadata": {},
   "source": [
    "La tabla resultante es:\n",
    "![](C:/Users/kaes1/Pictures/Screenshots/cedula.png)"
   ]
  },
  {
   "cell_type": "markdown",
   "metadata": {},
   "source": [
    "## Python"
   ]
  },
  {
   "cell_type": "markdown",
   "metadata": {},
   "source": [
    "1. Make a UDF which receives as a parameter a list of “Area/Location” strings. The result must be a single dataframe with\n",
    "all responses from the endpoint: https://worldtimeapi.org/api/timezone/+Area+Location\n",
    "e.g: https://worldtimeapi.org/api/timezone/America/New_York\n",
    "Here you can find all timezones: https://worldtimeapi.org/timezones\n",
    "\n",
    "The dataframe must have this columns:\n",
    "\n",
    "    ID: Create a unique ID (not incremental ID)\n",
    "    Year: Extract from “datetime”\n",
    "    Month: Extract from “datetime”\n",
    "    Day: Extract from “datetime”\n",
    "    Time: “HH:MM:SS” from “datetime”\n",
    "    Area: Extract from “timezone”\n",
    "    Location: Extract from “timezone”\n",
    "Iterate over at least 5 time zones with a sleep of 10 seconds after each iteration.\n"
   ]
  },
  {
   "cell_type": "code",
   "execution_count": 44,
   "metadata": {},
   "outputs": [
    {
     "data": {
      "text/html": [
       "<div>\n",
       "<style scoped>\n",
       "    .dataframe tbody tr th:only-of-type {\n",
       "        vertical-align: middle;\n",
       "    }\n",
       "\n",
       "    .dataframe tbody tr th {\n",
       "        vertical-align: top;\n",
       "    }\n",
       "\n",
       "    .dataframe thead th {\n",
       "        text-align: right;\n",
       "    }\n",
       "</style>\n",
       "<table border=\"1\" class=\"dataframe\">\n",
       "  <thead>\n",
       "    <tr style=\"text-align: right;\">\n",
       "      <th></th>\n",
       "      <th>Id</th>\n",
       "      <th>Year</th>\n",
       "      <th>Month</th>\n",
       "      <th>Day</th>\n",
       "      <th>Time</th>\n",
       "      <th>Area</th>\n",
       "      <th>Location</th>\n",
       "    </tr>\n",
       "  </thead>\n",
       "  <tbody>\n",
       "    <tr>\n",
       "      <th>0</th>\n",
       "      <td>794939d9-4290-46bb-ad0c-b48d3c373808</td>\n",
       "      <td>2024</td>\n",
       "      <td>2</td>\n",
       "      <td>26</td>\n",
       "      <td>07:40:31</td>\n",
       "      <td>Asia</td>\n",
       "      <td>Bangkok</td>\n",
       "    </tr>\n",
       "    <tr>\n",
       "      <th>1</th>\n",
       "      <td>6a1e81f8-9752-4a3b-a3a8-27aac07fb804</td>\n",
       "      <td>2024</td>\n",
       "      <td>2</td>\n",
       "      <td>26</td>\n",
       "      <td>01:40:42</td>\n",
       "      <td>Europe</td>\n",
       "      <td>Rome</td>\n",
       "    </tr>\n",
       "    <tr>\n",
       "      <th>2</th>\n",
       "      <td>9b359dcf-3520-4453-a7fd-b0a61f264fbd</td>\n",
       "      <td>2024</td>\n",
       "      <td>2</td>\n",
       "      <td>25</td>\n",
       "      <td>14:40:52</td>\n",
       "      <td>Pacific</td>\n",
       "      <td>Honolulu</td>\n",
       "    </tr>\n",
       "    <tr>\n",
       "      <th>3</th>\n",
       "      <td>9d4e49fc-9161-4462-93b0-34197c6918a3</td>\n",
       "      <td>2024</td>\n",
       "      <td>2</td>\n",
       "      <td>25</td>\n",
       "      <td>21:41:03</td>\n",
       "      <td>America</td>\n",
       "      <td>Sao_Paulo</td>\n",
       "    </tr>\n",
       "    <tr>\n",
       "      <th>4</th>\n",
       "      <td>be70fa88-6311-4868-8be8-fc6d52093d0a</td>\n",
       "      <td>2024</td>\n",
       "      <td>2</td>\n",
       "      <td>26</td>\n",
       "      <td>02:41:14</td>\n",
       "      <td>Africa</td>\n",
       "      <td>Cairo</td>\n",
       "    </tr>\n",
       "  </tbody>\n",
       "</table>\n",
       "</div>"
      ],
      "text/plain": [
       "                                     Id  Year  Month  Day      Time     Area  \\\n",
       "0  794939d9-4290-46bb-ad0c-b48d3c373808  2024      2   26  07:40:31     Asia   \n",
       "1  6a1e81f8-9752-4a3b-a3a8-27aac07fb804  2024      2   26  01:40:42   Europe   \n",
       "2  9b359dcf-3520-4453-a7fd-b0a61f264fbd  2024      2   25  14:40:52  Pacific   \n",
       "3  9d4e49fc-9161-4462-93b0-34197c6918a3  2024      2   25  21:41:03  America   \n",
       "4  be70fa88-6311-4868-8be8-fc6d52093d0a  2024      2   26  02:41:14   Africa   \n",
       "\n",
       "    Location  \n",
       "0    Bangkok  \n",
       "1       Rome  \n",
       "2   Honolulu  \n",
       "3  Sao_Paulo  \n",
       "4      Cairo  "
      ]
     },
     "metadata": {},
     "output_type": "display_data"
    }
   ],
   "source": [
    "import pandas as pd\n",
    "import requests\n",
    "from time import sleep\n",
    "from datetime import datetime\n",
    "import uuid\n",
    "\n",
    "lista = []\n",
    "\n",
    "def get_timezone_location(locations_list):\n",
    "  \n",
    "  for location in locations_list:\n",
    "    url = f\"https://worldtimeapi.org/api/timezone/{location}\"\n",
    "    response = requests.get(url)\n",
    "\n",
    "    if response.status_code == 200:\n",
    "      response_data = response.json()\n",
    "      datime = datetime.strptime(response_data.get(\"datetime\"), \"%Y-%m-%dT%H:%M:%S.%f%z\")\n",
    "      area = response_data.get(\"timezone\").split(\"/\")[0]\n",
    "      location = response_data.get(\"timezone\").split(\"/\")[1]      \n",
    "      year = datime.year\n",
    "      month = datime.month\n",
    "      day = datime.day\n",
    "      tiempo = str(datime.time())[0:8]\n",
    "\n",
    "      dict_time_location = {\n",
    "        \"Id\": str(uuid.uuid4()),\n",
    "        \"Year\": year,\n",
    "        \"Month\": month,\n",
    "        \"Day\": day,\n",
    "        \"Time\": tiempo,\n",
    "        \"Area\": area,\n",
    "        \"Location\": location  \n",
    "      }\n",
    "\n",
    "    lista.append(dict_time_location)\n",
    "    \n",
    "    sleep(10)  \n",
    "   \n",
    "  df = pd.DataFrame(lista)\n",
    "  \n",
    "  return df\n",
    "\n"
   ]
  },
  {
   "cell_type": "code",
   "execution_count": 71,
   "metadata": {},
   "outputs": [
    {
     "data": {
      "text/html": [
       "<div>\n",
       "<style scoped>\n",
       "    .dataframe tbody tr th:only-of-type {\n",
       "        vertical-align: middle;\n",
       "    }\n",
       "\n",
       "    .dataframe tbody tr th {\n",
       "        vertical-align: top;\n",
       "    }\n",
       "\n",
       "    .dataframe thead th {\n",
       "        text-align: right;\n",
       "    }\n",
       "</style>\n",
       "<table border=\"1\" class=\"dataframe\">\n",
       "  <thead>\n",
       "    <tr style=\"text-align: right;\">\n",
       "      <th></th>\n",
       "      <th>Id</th>\n",
       "      <th>Year</th>\n",
       "      <th>Month</th>\n",
       "      <th>Day</th>\n",
       "      <th>Time</th>\n",
       "      <th>Area</th>\n",
       "      <th>Location</th>\n",
       "    </tr>\n",
       "  </thead>\n",
       "  <tbody>\n",
       "    <tr>\n",
       "      <th>0</th>\n",
       "      <td>794939d9-4290-46bb-ad0c-b48d3c373808</td>\n",
       "      <td>2024</td>\n",
       "      <td>2</td>\n",
       "      <td>26</td>\n",
       "      <td>07:40:31</td>\n",
       "      <td>Asia</td>\n",
       "      <td>Bangkok</td>\n",
       "    </tr>\n",
       "    <tr>\n",
       "      <th>1</th>\n",
       "      <td>6a1e81f8-9752-4a3b-a3a8-27aac07fb804</td>\n",
       "      <td>2024</td>\n",
       "      <td>2</td>\n",
       "      <td>26</td>\n",
       "      <td>01:40:42</td>\n",
       "      <td>Europe</td>\n",
       "      <td>Rome</td>\n",
       "    </tr>\n",
       "    <tr>\n",
       "      <th>2</th>\n",
       "      <td>9b359dcf-3520-4453-a7fd-b0a61f264fbd</td>\n",
       "      <td>2024</td>\n",
       "      <td>2</td>\n",
       "      <td>25</td>\n",
       "      <td>14:40:52</td>\n",
       "      <td>Pacific</td>\n",
       "      <td>Honolulu</td>\n",
       "    </tr>\n",
       "    <tr>\n",
       "      <th>3</th>\n",
       "      <td>9d4e49fc-9161-4462-93b0-34197c6918a3</td>\n",
       "      <td>2024</td>\n",
       "      <td>2</td>\n",
       "      <td>25</td>\n",
       "      <td>21:41:03</td>\n",
       "      <td>America</td>\n",
       "      <td>Sao_Paulo</td>\n",
       "    </tr>\n",
       "    <tr>\n",
       "      <th>4</th>\n",
       "      <td>be70fa88-6311-4868-8be8-fc6d52093d0a</td>\n",
       "      <td>2024</td>\n",
       "      <td>2</td>\n",
       "      <td>26</td>\n",
       "      <td>02:41:14</td>\n",
       "      <td>Africa</td>\n",
       "      <td>Cairo</td>\n",
       "    </tr>\n",
       "    <tr>\n",
       "      <th>5</th>\n",
       "      <td>be050f0b-3cef-4ff1-b6e9-e2dfbc37d403</td>\n",
       "      <td>2024</td>\n",
       "      <td>2</td>\n",
       "      <td>26</td>\n",
       "      <td>18:55:20</td>\n",
       "      <td>Asia</td>\n",
       "      <td>Bangkok</td>\n",
       "    </tr>\n",
       "    <tr>\n",
       "      <th>6</th>\n",
       "      <td>fd46d9f5-41f7-4970-a66e-602f5e95baee</td>\n",
       "      <td>2024</td>\n",
       "      <td>2</td>\n",
       "      <td>26</td>\n",
       "      <td>12:55:31</td>\n",
       "      <td>Europe</td>\n",
       "      <td>Rome</td>\n",
       "    </tr>\n",
       "    <tr>\n",
       "      <th>7</th>\n",
       "      <td>a999caed-abd2-438f-8f98-90642fb72f8c</td>\n",
       "      <td>2024</td>\n",
       "      <td>2</td>\n",
       "      <td>26</td>\n",
       "      <td>01:55:42</td>\n",
       "      <td>Pacific</td>\n",
       "      <td>Honolulu</td>\n",
       "    </tr>\n",
       "    <tr>\n",
       "      <th>8</th>\n",
       "      <td>93d5571c-6abd-4b9b-b06c-c974ec2352b0</td>\n",
       "      <td>2024</td>\n",
       "      <td>2</td>\n",
       "      <td>26</td>\n",
       "      <td>08:55:52</td>\n",
       "      <td>America</td>\n",
       "      <td>Sao_Paulo</td>\n",
       "    </tr>\n",
       "    <tr>\n",
       "      <th>9</th>\n",
       "      <td>aa48b3a7-c8f7-419c-96a7-18cf5d0a9d05</td>\n",
       "      <td>2024</td>\n",
       "      <td>2</td>\n",
       "      <td>26</td>\n",
       "      <td>13:56:03</td>\n",
       "      <td>Africa</td>\n",
       "      <td>Cairo</td>\n",
       "    </tr>\n",
       "    <tr>\n",
       "      <th>10</th>\n",
       "      <td>a20f24e3-fc43-4d8a-9063-2d7ac25997ef</td>\n",
       "      <td>2024</td>\n",
       "      <td>2</td>\n",
       "      <td>26</td>\n",
       "      <td>18:58:51</td>\n",
       "      <td>Asia</td>\n",
       "      <td>Bangkok</td>\n",
       "    </tr>\n",
       "    <tr>\n",
       "      <th>11</th>\n",
       "      <td>7aab608b-7813-475f-a526-25ba3123cd62</td>\n",
       "      <td>2024</td>\n",
       "      <td>2</td>\n",
       "      <td>26</td>\n",
       "      <td>12:59:02</td>\n",
       "      <td>Europe</td>\n",
       "      <td>Rome</td>\n",
       "    </tr>\n",
       "    <tr>\n",
       "      <th>12</th>\n",
       "      <td>2479939b-fdb9-48db-aaa6-e073c2fe13aa</td>\n",
       "      <td>2024</td>\n",
       "      <td>2</td>\n",
       "      <td>26</td>\n",
       "      <td>01:59:14</td>\n",
       "      <td>Pacific</td>\n",
       "      <td>Honolulu</td>\n",
       "    </tr>\n",
       "    <tr>\n",
       "      <th>13</th>\n",
       "      <td>9eee690d-b355-4aca-b280-fc63b35c7b89</td>\n",
       "      <td>2024</td>\n",
       "      <td>2</td>\n",
       "      <td>26</td>\n",
       "      <td>08:59:26</td>\n",
       "      <td>America</td>\n",
       "      <td>Sao_Paulo</td>\n",
       "    </tr>\n",
       "    <tr>\n",
       "      <th>14</th>\n",
       "      <td>b963e7cc-2559-4bf1-be76-4c2a04856fcc</td>\n",
       "      <td>2024</td>\n",
       "      <td>2</td>\n",
       "      <td>26</td>\n",
       "      <td>13:59:37</td>\n",
       "      <td>Africa</td>\n",
       "      <td>Cairo</td>\n",
       "    </tr>\n",
       "  </tbody>\n",
       "</table>\n",
       "</div>"
      ],
      "text/plain": [
       "                                      Id  Year  Month  Day      Time     Area  \\\n",
       "0   794939d9-4290-46bb-ad0c-b48d3c373808  2024      2   26  07:40:31     Asia   \n",
       "1   6a1e81f8-9752-4a3b-a3a8-27aac07fb804  2024      2   26  01:40:42   Europe   \n",
       "2   9b359dcf-3520-4453-a7fd-b0a61f264fbd  2024      2   25  14:40:52  Pacific   \n",
       "3   9d4e49fc-9161-4462-93b0-34197c6918a3  2024      2   25  21:41:03  America   \n",
       "4   be70fa88-6311-4868-8be8-fc6d52093d0a  2024      2   26  02:41:14   Africa   \n",
       "5   be050f0b-3cef-4ff1-b6e9-e2dfbc37d403  2024      2   26  18:55:20     Asia   \n",
       "6   fd46d9f5-41f7-4970-a66e-602f5e95baee  2024      2   26  12:55:31   Europe   \n",
       "7   a999caed-abd2-438f-8f98-90642fb72f8c  2024      2   26  01:55:42  Pacific   \n",
       "8   93d5571c-6abd-4b9b-b06c-c974ec2352b0  2024      2   26  08:55:52  America   \n",
       "9   aa48b3a7-c8f7-419c-96a7-18cf5d0a9d05  2024      2   26  13:56:03   Africa   \n",
       "10  a20f24e3-fc43-4d8a-9063-2d7ac25997ef  2024      2   26  18:58:51     Asia   \n",
       "11  7aab608b-7813-475f-a526-25ba3123cd62  2024      2   26  12:59:02   Europe   \n",
       "12  2479939b-fdb9-48db-aaa6-e073c2fe13aa  2024      2   26  01:59:14  Pacific   \n",
       "13  9eee690d-b355-4aca-b280-fc63b35c7b89  2024      2   26  08:59:26  America   \n",
       "14  b963e7cc-2559-4bf1-be76-4c2a04856fcc  2024      2   26  13:59:37   Africa   \n",
       "\n",
       "     Location  \n",
       "0     Bangkok  \n",
       "1        Rome  \n",
       "2    Honolulu  \n",
       "3   Sao_Paulo  \n",
       "4       Cairo  \n",
       "5     Bangkok  \n",
       "6        Rome  \n",
       "7    Honolulu  \n",
       "8   Sao_Paulo  \n",
       "9       Cairo  \n",
       "10    Bangkok  \n",
       "11       Rome  \n",
       "12   Honolulu  \n",
       "13  Sao_Paulo  \n",
       "14      Cairo  "
      ]
     },
     "execution_count": 71,
     "metadata": {},
     "output_type": "execute_result"
    }
   ],
   "source": [
    "locations = [\"Asia/Bangkok\", \"Europe/Rome\", \"Pacific/Honolulu\", \"America/Sao_Paulo\", \"Africa/Cairo\"]\n",
    "\n",
    "df_locations = get_timezone_location(locations)\n",
    "df_locations"
   ]
  },
  {
   "cell_type": "markdown",
   "metadata": {},
   "source": [
    "2. Crear una función que permita convertir números enteros en números romanos. (Para este caso se limita la función para que solo pueda convertir números de 4 digitos como maximo)"
   ]
  },
  {
   "cell_type": "code",
   "execution_count": 69,
   "metadata": {},
   "outputs": [
    {
     "data": {
      "text/plain": [
       "'CI'"
      ]
     },
     "execution_count": 69,
     "metadata": {},
     "output_type": "execute_result"
    }
   ],
   "source": [
    "def get_romano(num_entero):\n",
    "    \n",
    "    num_romanos = {\"M\": 1000,\n",
    "                \"CM\": 900,\n",
    "                \"D\": 500,\n",
    "                \"CD\": 400,\n",
    "                \"C\": 100,\n",
    "                \"XC\": 90,\n",
    "                \"L\": 50,\n",
    "                \"XL\": 40,\n",
    "                \"X\": 10,\n",
    "                \"IX\": 9,\n",
    "                \"V\": 5,\n",
    "                \"IV\": 4,\n",
    "                \"I\": 1    \n",
    "    }\n",
    "    \n",
    "    if (len(str(num_entero))) <= 4:      \n",
    "        num_romano = str()\n",
    "        \n",
    "        for romano, entero in num_romanos.items():\n",
    "            while (num_entero >= entero):\n",
    "                num_romano = num_romano + romano\n",
    "                num_entero = num_entero - entero\n",
    "                \n",
    "    else:\n",
    "        num_romano = \"Solo se pueden convertir números de 4 o menos digitos\"\n",
    "        \n",
    "    return num_romano\n",
    "        \n",
    "        \n",
    "get_romano(101)      "
   ]
  }
 ],
 "metadata": {
  "kernelspec": {
   "display_name": "Python 3",
   "language": "python",
   "name": "python3"
  },
  "language_info": {
   "codemirror_mode": {
    "name": "ipython",
    "version": 3
   },
   "file_extension": ".py",
   "mimetype": "text/x-python",
   "name": "python",
   "nbconvert_exporter": "python",
   "pygments_lexer": "ipython3",
   "version": "3.9.17"
  },
  "widgets": {
   "application/vnd.jupyter.widget-state+json": {
    "state": {},
    "version_major": 2,
    "version_minor": 0
   }
  }
 },
 "nbformat": 4,
 "nbformat_minor": 4
}
